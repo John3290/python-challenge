{
 "cells": [
  {
   "cell_type": "code",
   "execution_count": 1,
   "metadata": {},
   "outputs": [],
   "source": [
    "#total votes\n",
    "#percentage of votes each person won (total number of votes they got)\n",
    "#Winner based on popular vote\n",
    "\n",
    "\n",
    "import os \n",
    "import csv"
   ]
  },
  {
   "cell_type": "code",
   "execution_count": 2,
   "metadata": {},
   "outputs": [],
   "source": [
    "#set everything to 0\n",
    "Candidates = [] \n",
    "unicandidate = []\n",
    "khan = []\n",
    "correy = []\n",
    "Li = []\n",
    "Otooley = []\n",
    "count = 0"
   ]
  },
  {
   "cell_type": "code",
   "execution_count": 3,
   "metadata": {},
   "outputs": [],
   "source": [
    "#Create path\n",
    "csvpath = os.path.join(\"Resources\", \"week_03 Python_homework_PyPoll_Resources_election_data.csv\")"
   ]
  },
  {
   "cell_type": "code",
   "execution_count": 4,
   "metadata": {},
   "outputs": [],
   "source": [
    "with open(csvpath) as csvfile:\n",
    "    csvreader = csv.reader(csvfile, delimiter=\",\")\n",
    "    csv_header = next(csvreader)\n",
    "\n",
    "    \n",
    "    for row in csvreader:\n",
    "        #counts the rows in the csv file that will help up understand all of the possible candidates listed across the worksheet\n",
    "        count += 1\n",
    "        #this asdd in all of the candidate variables from row 2 of the csv to the Candidates list\n",
    "        Candidates.append(row[2])\n",
    "    #for every entry in the candidate list\n",
    "    for p in Candidates:\n",
    "        #if the entry (p) is unique, therefor, not in the unicandidate list, add it in\n",
    "        if p not in unicandidate:\n",
    "            unicandidate.append(p)\n",
    "    "
   ]
  },
  {
   "cell_type": "code",
   "execution_count": 5,
   "metadata": {},
   "outputs": [],
   "source": [
    " #this will add the number of votes for each name of a candidate for a list assigned just for that candidates votes     \n",
    "for votes in Candidates:\n",
    "    if votes == \"Khan\":\n",
    "        khan.append(votes)\n",
    "    elif votes == \"Correy\":\n",
    "        correy.append(votes)\n",
    "    elif votes == \"Li\":\n",
    "        Li.append(votes)\n",
    "    elif votes == \"O'Tooley\":\n",
    "        Otooley.append(votes)"
   ]
  },
  {
   "cell_type": "code",
   "execution_count": 6,
   "metadata": {},
   "outputs": [],
   "source": [
    "#Percentages for candidates\n",
    "#takes the length of the Khan list, which includes every vote for Khan, and divides it by the total votes, for example. Round was used to only include a few decimal places\n",
    "khanpercent = round((len(khan))/count*100, 3)\n",
    "correypercent = round((len(correy))/count*100, 3)\n",
    "lipercent = round((len(Li))/count*100, 3)\n",
    "otoolpercent = round((len(Otooley))/count*100, 3)"
   ]
  },
  {
   "cell_type": "code",
   "execution_count": 7,
   "metadata": {},
   "outputs": [],
   "source": [
    "# winner calculations\n",
    "#This compares the percentages of each candidate, calculated above. If Khan's % was higher than all others, for example, then winner would be equal to candidate 0 in the unicandidate list, which is Khan.\n",
    "if int(khanpercent) > int(correypercent) & int(khanpercent) > int(lipercent) & int(khanpercent) > int(otoolpercent):\n",
    "    winner = unicandidate[0]\n",
    "        \n",
    "elif int(correypercent) > int(khanpercent) & int(correypercent) > int(lipercentlipercent) & int(correypercent) > int(otoolpercent):\n",
    "    winner = unicandidate[1]\n",
    "        \n",
    "elif int(lipercent) > int(khanpercent) & int(lipercent) > int(correypercent) & int(lipercent) > int(otoolpercent):\n",
    "    winner = unicandidate[2]\n",
    "        \n",
    "elif int(otoolpercent) > int(khanpercent) & int(otoolpercent) > int(correypercent) & int(otoolpercent) > int(lipercent):\n",
    "    winner = unicandidate[3]"
   ]
  },
  {
   "cell_type": "code",
   "execution_count": 8,
   "metadata": {},
   "outputs": [],
   "source": [
    "#How to check the index number for the candidate for the above calculations\n",
    "#for (num, item) in enumerate(unicandidate):\n",
    "    #print(num,item)"
   ]
  },
  {
   "cell_type": "code",
   "execution_count": 9,
   "metadata": {},
   "outputs": [
    {
     "name": "stdout",
     "output_type": "stream",
     "text": [
      "Election Results\n",
      "--------------------\n",
      "Total Votes: 3521001\n",
      "--------------------\n",
      "Khan: 63.0% (2218231)\n",
      "Correy: 20.0% (704200)\n",
      "Li: 14.0% (492940)\n",
      "O'Tooley: 3.0% (105630)\n",
      "------------------\n",
      "Winner: Khan\n",
      "---------------------\n"
     ]
    }
   ],
   "source": [
    "# Print\n",
    "print(\"Election Results\")\n",
    "print(\"--------------------\")\n",
    "print(\"Total Votes: \" + str(count))\n",
    "print(\"--------------------\")\n",
    "print(\"Khan: \" + str(khanpercent) + \"% \" +  \"(\" + str(len(khan)) + \")\")\n",
    "print(\"Correy: \" + str(correypercent) + \"% \" + \"(\" + str(len(correy)) + \")\")\n",
    "print(\"Li: \" + str(lipercent) + \"% \" + \"(\" + str(len(Li)) + \")\")\n",
    "print(\"O'Tooley: \" + str(otoolpercent) + \"% \" + \"(\" + str(len(Otooley)) + \")\") \n",
    "print(\"------------------\")\n",
    "print(\"Winner: \" + winner)\n",
    "print(\"---------------------\")"
   ]
  },
  {
   "cell_type": "code",
   "execution_count": 10,
   "metadata": {},
   "outputs": [],
   "source": [
    "#exporting to .txt\n",
    "output = os.path.join(\"Analysis\", \"PollResults.txt\")\n",
    "with open(output, 'w') as file:\n",
    "    text = csv.writer(file)\n",
    "    text.writerow([\"Election Results\"])\n",
    "    text.writerow([\"-------------------\"])\n",
    "    text.writerow([\"Total Votes: \" + str(count)])\n",
    "    text.writerow([\"-------------------\"])\n",
    "    text.writerow([\"Khan: \" + str(khanpercent) + \"% \" +  \"(\" + str(len(khan)) + \")\"])\n",
    "    text.writerow([\"Correy: \" + str(correypercent) + \"% \" + \"(\" + str(len(correy)) + \")\"])\n",
    "    text.writerow([\"Li: \" + str(lipercent) + \"% \" + \"(\" + str(len(Li)) + \")\"])\n",
    "    text.writerow([\"O'Tooley: \" + str(otoolpercent) + \"% \" + \"(\" + str(len(Otooley)) + \")\"])\n",
    "    text.writerow([\"-----------------\"])\n",
    "    text.writerow([\"Winner: \" + winner])\n",
    "    text.writerow([\"--------------------\"])"
   ]
  }
 ],
 "metadata": {
  "kernelspec": {
   "display_name": "Python 3",
   "language": "python",
   "name": "python3"
  },
  "language_info": {
   "codemirror_mode": {
    "name": "ipython",
    "version": 3
   },
   "file_extension": ".py",
   "mimetype": "text/x-python",
   "name": "python",
   "nbconvert_exporter": "python",
   "pygments_lexer": "ipython3",
   "version": "3.8.3"
  }
 },
 "nbformat": 4,
 "nbformat_minor": 4
}
