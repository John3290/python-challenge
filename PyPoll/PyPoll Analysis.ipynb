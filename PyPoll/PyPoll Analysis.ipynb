{
 "cells": [
  {
   "cell_type": "code",
   "execution_count": 2,
   "metadata": {},
   "outputs": [],
   "source": [
    "#total votes\n",
    "#percentage of votes each person won (total number of votes they got)\n",
    "#Winner based on popular vote\n",
    "\n",
    "\n",
    "import os \n",
    "import csv"
   ]
  },
  {
   "cell_type": "code",
   "execution_count": null,
   "metadata": {},
   "outputs": [],
   "source": [
    "#set everything to 0\n",
    "totalvotes = 0\n",
    "voteslist = []\n",
    "Candidates = []\n",
    "CandidateVotes = []\n",
    "Result = [] \n",
    "unicandidate = []\n",
    "khan = []\n",
    "correy = []\n",
    "Li = []\n",
    "Otooley = []\n",
    "count = 0"
   ]
  },
  {
   "cell_type": "code",
   "execution_count": 3,
   "metadata": {},
   "outputs": [],
   "source": [
    "#Create path\n",
    "csvpath = os.path.join(\"Resources\", \"week_03 Python_homework_PyPoll_Resources_election_data.csv\")"
   ]
  },
  {
   "cell_type": "code",
   "execution_count": null,
   "metadata": {},
   "outputs": [],
   "source": [
    "with open(csvpath) as csvfile:\n",
    "    csvreader = csv.reader(csvfile, delimiter=\",\")\n",
    "    csv_header = next(csvreader)\n",
    "    firstrow=next(csvreader)\n",
    "    \n",
    "\n",
    "    for row in csvreader: \n",
    "        #Count the length of the list to get the total number of votes cast\n",
    "        voteslist.append(row[0])\n",
    "        totalvotes = len(voteslist) + 1 \n",
    "    \n",
    "    for row in csvreader:\n",
    "        count += 2\n",
    "        Candidates.append(row[2])\n",
    "    for variable in Candidates:\n",
    "        if variable not in unicandidate:\n",
    "            unicandidate.append(variable)\n",
    "        \n",
    "    for votes in candidates:\n",
    "        if votes == \"Khan\":\n",
    "            khan.append(votes)\n",
    "        elif votes == \"Correy\":\n",
    "            correy.append(votes)\n",
    "        elif votes == \"Li\":\n",
    "            \n",
    "                \n",
    "        \n",
    "        \n",
    "    "
   ]
  }
 ],
 "metadata": {
  "kernelspec": {
   "display_name": "Python 3",
   "language": "python",
   "name": "python3"
  },
  "language_info": {
   "codemirror_mode": {
    "name": "ipython",
    "version": 3
   },
   "file_extension": ".py",
   "mimetype": "text/x-python",
   "name": "python",
   "nbconvert_exporter": "python",
   "pygments_lexer": "ipython3",
   "version": "3.8.3"
  }
 },
 "nbformat": 4,
 "nbformat_minor": 4
}
