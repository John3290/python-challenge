{
 "cells": [
  {
   "cell_type": "code",
   "execution_count": null,
   "metadata": {},
   "outputs": [],
   "source": [
    "#!/usr/bin/env python\n",
    "# coding: utf-8\n",
    "\n",
    "# In[1]:\n",
    "\n",
    "\n",
    "#import modules needed\n",
    "import os\n",
    "import csv"
   ]
  },
  {
   "cell_type": "code",
   "execution_count": null,
   "metadata": {},
   "outputs": [],
   "source": [
    "# In[2]:\n",
    "\n",
    "#set everything to 0\n",
    "total = 0\n",
    "avchange = 0\n",
    "increaseprofits = 0\n",
    "decreaseprofits = 0\n",
    "PastRevenue = 0\n",
    "RevenueChange = 0\n",
    "#store the change in revenue\n",
    "avchangelist = []\n",
    "#Store months list\n",
    "Monthslist = []\n"
   ]
  },
  {
   "cell_type": "code",
   "execution_count": null,
   "metadata": {},
   "outputs": [],
   "source": [
    "# In[3]:\n",
    "\n",
    "\n",
    "#create the path. This will access the csv in the resources folder\n",
    "csvpath = os.path.join(\"Resources\", \"week_03_Python_homework_PyBank_Resources_budget_data.csv\")\n"
   ]
  },
  {
   "cell_type": "code",
   "execution_count": null,
   "metadata": {},
   "outputs": [],
   "source": [
    "# In[4]:\n",
    "\n",
    "\n",
    "with open(csvpath) as csvfile:\n",
    "    #opening csv file and noting the the variables are separated by ,\n",
    "    csvreader = csv.reader(csvfile, delimiter=\",\")\n",
    "    #cycles through the csv file \n",
    "    csv_header = next(csvreader)\n",
    "    \n",
    "    firstrow=next(csvreader)\n",
    "    \n",
    "    #not sure if needed:\n",
    "    #currentvalue = int(firstrow[1])\n",
    "    \n",
    "    total = int(firstrow[1])\n",
    "   \n",
    "#look through all the rows for info\n",
    "\n",
    "    for row in csvreader:  \n",
    "        Monthslist.append(row[0])\n",
    "        totalmonths = len(Monthslist) + 1\n",
    "    \n",
    "    #total revenue. int pulls the actual values of row 1 and adds them\n",
    "        total += int(row[1])\n",
    "    \n",
    "    \n",
    "    #Revenue change calculation\n",
    "        \n",
    "        RevenueChange= int(row[1]) - PastRevenue\n",
    "        avchangelist.append(RevenueChange)\n",
    "        PastRevenue= int(row[1])\n",
    "        \n",
    "    #average change\n",
    "        sumprofitloss = sum(avchangelist)\n",
    "        avchange = (sumprofitloss / (totalmonths-1))\n",
    "    \n",
    "    #Greatest Increase in Profits Date and the $\n",
    "        increaseprofits = max(avchangelist)\n",
    "        indexincrease = avchangelist.index(increaseprofits)\n",
    "        dateincrease = Monthslist[indexincrease]\n",
    "    \n",
    "    #Greatest Decrease in Profits Date and the $\n",
    "        decreaseprofits = min(avchangelist)\n",
    "        #minimum of the average change list\n",
    "        indexdecrease =avchangelist.index(decreaseprofits)\n",
    "        #index of the smallest value of average change list\n",
    "        datedecrease = Monthslist[indexdecrease]\n",
    "        #the month that corresponds with the index for the smallest average change list value"
   ]
  },
  {
   "cell_type": "code",
   "execution_count": null,
   "metadata": {},
   "outputs": [],
   "source": [
    "# In[5]:\n",
    "\n",
    "print(\"Financial Analysis\")\n",
    "print(\"----------------------------\")\n",
    "print(\"Total Months: \" + str(totalmonths))\n",
    "print(\"Total Profits/ Losses: $\" + str(total))\n",
    "print(\"Average change in Profit/Losses: \" + str(round(avchange,2)))\n",
    "print(\"Greatest Increase in Profits: \" + str(dateincrease) + \" ($\" + str(increaseprofits) + \")\")\n",
    "print(\"Greatest Increase in Profits: \"+ str(datedecrease) + \" ($\" + str(decreaseprofits) + \")\")"
   ]
  },
  {
   "cell_type": "code",
   "execution_count": null,
   "metadata": {},
   "outputs": [],
   "source": [
    "# In[6]:\n",
    "\n",
    "# export text file with results\n",
    "#output = os.path.join(\"Analysis\", \"results.txt\")\n",
    "#with open(output, 'w') as file:\n",
    "    #text = csv.writer(file)\n",
    "    #text.writerow([\"Financial Analysis\"])\n",
    "    #text.writerow([\"----------------------------\"])\n",
    "    #text.writerow([\"Total Months: \" + str(totalmonths)])\n",
    "    #text.writerow([\"Total Profits/ Losses: $\" + str(total)])\n",
    "    #text.writerow([\"Average change in Profit/Losses: \" + str(round(avchange,2))])\n",
    "    #text.writerow([\"Greatest Increase in Profits: \" + str(dateincrease) + \" ($\" + str(increaseprofits) + \")\"])\n",
    "    #text.writerow([\"Greatest Increase in Profits: \"+ str(datedecrease) + \" ($\" + str(decreaseprofits) + \")\"])\n"
   ]
  }
 ],
 "metadata": {
  "kernelspec": {
   "display_name": "Python 3",
   "language": "python",
   "name": "python3"
  },
  "language_info": {
   "codemirror_mode": {
    "name": "ipython",
    "version": 3
   },
   "file_extension": ".py",
   "mimetype": "text/x-python",
   "name": "python",
   "nbconvert_exporter": "python",
   "pygments_lexer": "ipython3",
   "version": "3.8.3"
  }
 },
 "nbformat": 4,
 "nbformat_minor": 4
}
