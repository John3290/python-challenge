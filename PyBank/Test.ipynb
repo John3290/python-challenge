{
 "cells": [
  {
   "cell_type": "code",
   "execution_count": 1,
   "metadata": {},
   "outputs": [],
   "source": [
    "#!/usr/bin/env python\n",
    "# coding: utf-8\n",
    "\n",
    "# In[1]:\n",
    "\n",
    "\n",
    "#import modules needed\n",
    "import os\n",
    "import csv"
   ]
  },
  {
   "cell_type": "code",
   "execution_count": 2,
   "metadata": {},
   "outputs": [],
   "source": [
    "# In[2]:\n",
    "\n",
    "#set everything to 0\n",
    "total = 0\n",
    "avchange = 0\n",
    "increaseprofits = 0\n",
    "decreaseprofits = 0\n",
    "PastRevenue = 0\n",
    "RevenueChange = 0\n",
    "#store the change in revenue\n",
    "avchangelist = []\n",
    "#Store months list\n",
    "Monthslist = []\n"
   ]
  },
  {
   "cell_type": "code",
   "execution_count": 3,
   "metadata": {},
   "outputs": [],
   "source": [
    "# In[3]:\n",
    "\n",
    "\n",
    "#create the path. This will access the csv in the resources folder\n",
    "csvpath = os.path.join(\"Resources\", \"week_03_Python_homework_PyBank_Resources_budget_data.csv\")\n"
   ]
  },
  {
   "cell_type": "code",
   "execution_count": 4,
   "metadata": {},
   "outputs": [],
   "source": [
    "# In[4]:\n",
    "\n",
    "\n",
    "with open(csvpath) as csvfile:\n",
    "    #opening csv file and noting the the variables are separated by ,\n",
    "    csvreader = csv.reader(csvfile, delimiter=\",\")\n",
    "    \n",
    "    #cycles through the csv file, starting at position 0. Here, csv_header will report the titles of each column. \n",
    "    csv_header = next(csvreader)\n",
    "    \n",
    "    #This will report the first row of actual data for each column.\n",
    "    firstrow= next(csvreader)\n",
    "    \n",
    "    #to conceptualize what csv_header and firstrow represent, you can run the following functions:\n",
    "    #print(f\"Header: {firstrow}\")\n",
    "    #print(f\"Header: {csv_header}\")\n",
    "    \n",
    "    #not sure if needed:\n",
    "    #currentvalue = int(firstrow[1])\n",
    "    \n",
    "    total = int(firstrow[1])\n",
    "    #now total contains the contents of the second column, first row of the worksheet with revenue data\n",
    "   \n",
    "#look through all the rows for info\n",
    "    for row in csvreader:  \n",
    "        Monthslist.append(row[0])\n",
    "        totalmonths = len(Monthslist) + 1\n",
    "        #adds 1 to the index value (aka the length) of column 0 which is the months column. This updates the monthslist list\n",
    "    \n",
    "    #total revenue. \n",
    "    #int pulls the actual values of row 1 and adds them. Here, I'm cycling through the values of the revenue column and adding them to get a new total number\n",
    "        total += int(row[1])\n",
    "    #  += adds another value with the variables value and assigns the new value to the variable. It's cycling through the revenue column (1)\n",
    "    \n",
    "    \n",
    "    #Revenue change calculation\n",
    "    \n",
    "        #should int(row[1]) below be total instead?\n",
    "        #RevenueChange= int(row[1]) - PastRevenue\n",
    "        #RevenueChange = total - PastRevenue: this also didn't work!\n",
    "        #values of column with revenue minus past revenue is the change in revenue\n",
    "        \n",
    "        #avchangelist.append(RevenueChange)\n",
    "        #updating the avchangelist to reflect the new total for revenue change\n",
    "        avchangelist.append(int(row[1])-PastRevenue)\n",
    "        \n",
    "        PastRevenue= int(row[1])\n",
    "        #this doesn't make sense? \n",
    "        \n",
    "    #average change\n",
    "        sumprofitloss = sum(avchangelist)\n",
    "        avchange = (sumprofitloss / (totalmonths-1))\n",
    "    \n",
    "    #Greatest Increase in Profits Date and the $\n",
    "        increaseprofits = max(avchangelist)\n",
    "        #max value in list avchange\n",
    "        indexincrease = avchangelist.index(increaseprofits)\n",
    "        #the index of the max value\n",
    "        dateincrease = Monthslist[indexincrease]\n",
    "        #the value in the monthslist that shares the same index as the max value of avchangelist\n",
    "    \n",
    "    #Greatest Decrease in Profits Date and the $\n",
    "        decreaseprofits = min(avchangelist)\n",
    "        #minimum of the average change list\n",
    "        indexdecrease =avchangelist.index(decreaseprofits)\n",
    "        #index of the smallest value of average change list\n",
    "        datedecrease = Monthslist[indexdecrease]\n",
    "        #the month that corresponds with the index for the smallest average change list value"
   ]
  },
  {
   "cell_type": "code",
   "execution_count": 11,
   "metadata": {},
   "outputs": [
    {
     "name": "stdout",
     "output_type": "stream",
     "text": [
      "Header: 671099\n",
      "Header: 38382578\n",
      "Header: 7895.282352941176\n"
     ]
    }
   ],
   "source": [
    "print(f\"Header: {PastRevenue}\")\n",
    "print(f\"Header: {total}\")\n",
    "print(f\"Header: {avchange}\")"
   ]
  },
  {
   "cell_type": "code",
   "execution_count": 5,
   "metadata": {},
   "outputs": [
    {
     "name": "stdout",
     "output_type": "stream",
     "text": [
      "Financial Analysis\n",
      "----------------------------\n",
      "Total Months: 86\n",
      "Total Profits/ Losses: $38382578\n",
      "Average change in Profit/Losses: 7895.28\n",
      "Greatest Increase in Profits: Feb-2012 ($1926159)\n",
      "Greatest Increase in Profits: Sep-2013 ($-2196167)\n"
     ]
    }
   ],
   "source": [
    "# In[5]:\n",
    "\n",
    "print(\"Financial Analysis\")\n",
    "print(\"----------------------------\")\n",
    "print(\"Total Months: \" + str(totalmonths))\n",
    "print(\"Total Profits/ Losses: $\" + str(total))\n",
    "print(\"Average change in Profit/Losses: \" + str(round(avchange,2)))\n",
    "#avchange should be -2315.12\n",
    "print(\"Greatest Increase in Profits: \" + str(dateincrease) + \" ($\" + str(increaseprofits) + \")\")\n",
    "print(\"Greatest Increase in Profits: \"+ str(datedecrease) + \" ($\" + str(decreaseprofits) + \")\")"
   ]
  },
  {
   "cell_type": "code",
   "execution_count": 6,
   "metadata": {},
   "outputs": [],
   "source": [
    "# In[6]:\n",
    "\n",
    "# export text file with results\n",
    "#output = os.path.join(\"Analysis\", \"results.txt\")\n",
    "#with open(output, 'w') as file:\n",
    "    #text = csv.writer(file)\n",
    "    #text.writerow([\"Financial Analysis\"])\n",
    "    #text.writerow([\"----------------------------\"])\n",
    "    #text.writerow([\"Total Months: \" + str(totalmonths)])\n",
    "    #text.writerow([\"Total Profits/ Losses: $\" + str(total)])\n",
    "    #text.writerow([\"Average change in Profit/Losses: \" + str(round(avchange,2))])\n",
    "    #text.writerow([\"Greatest Increase in Profits: \" + str(dateincrease) + \" ($\" + str(increaseprofits) + \")\"])\n",
    "    #text.writerow([\"Greatest Increase in Profits: \"+ str(datedecrease) + \" ($\" + str(decreaseprofits) + \")\"])\n"
   ]
  }
 ],
 "metadata": {
  "kernelspec": {
   "display_name": "Python 3",
   "language": "python",
   "name": "python3"
  },
  "language_info": {
   "codemirror_mode": {
    "name": "ipython",
    "version": 3
   },
   "file_extension": ".py",
   "mimetype": "text/x-python",
   "name": "python",
   "nbconvert_exporter": "python",
   "pygments_lexer": "ipython3",
   "version": "3.8.3"
  }
 },
 "nbformat": 4,
 "nbformat_minor": 4
}
